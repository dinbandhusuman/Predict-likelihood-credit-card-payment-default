{
 "cells": [
  {
   "cell_type": "code",
   "execution_count": 1,
   "id": "894c6c9f",
   "metadata": {},
   "outputs": [],
   "source": [
    "import pandas as pd\n",
    "from sklearn.preprocessing import MinMaxScaler\n",
    "import seaborn as sns\n",
    "import matplotlib.pyplot as plt\n",
    "from sklearn.model_selection import train_test_split\n",
    "from sklearn.tree import DecisionTreeClassifier\n",
    "from sklearn.ensemble import RandomForestClassifier\n",
    "from xgboost import XGBClassifier\n",
    "from sklearn.linear_model import LogisticRegression\n",
    "from sklearn import metrics"
   ]
  },
  {
   "cell_type": "code",
   "execution_count": 2,
   "id": "6818339e",
   "metadata": {},
   "outputs": [],
   "source": [
    "data = pd.read_csv(r'C:\\Users\\Dinbandhu Suman\\Downloads\\Data_Science_Internship - Dump.csv')"
   ]
  },
  {
   "cell_type": "code",
   "execution_count": 3,
   "id": "33395c95",
   "metadata": {},
   "outputs": [
    {
     "data": {
      "text/html": [
       "<div>\n",
       "<style scoped>\n",
       "    .dataframe tbody tr th:only-of-type {\n",
       "        vertical-align: middle;\n",
       "    }\n",
       "\n",
       "    .dataframe tbody tr th {\n",
       "        vertical-align: top;\n",
       "    }\n",
       "\n",
       "    .dataframe thead th {\n",
       "        text-align: right;\n",
       "    }\n",
       "</style>\n",
       "<table border=\"1\" class=\"dataframe\">\n",
       "  <thead>\n",
       "    <tr style=\"text-align: right;\">\n",
       "      <th></th>\n",
       "      <th>Unnamed: 0</th>\n",
       "      <th>Agent_id</th>\n",
       "      <th>status</th>\n",
       "      <th>lost_reason</th>\n",
       "      <th>budget</th>\n",
       "      <th>lease</th>\n",
       "      <th>movein</th>\n",
       "      <th>source</th>\n",
       "      <th>source_city</th>\n",
       "      <th>source_country</th>\n",
       "      <th>utm_source</th>\n",
       "      <th>utm_medium</th>\n",
       "      <th>des_city</th>\n",
       "      <th>des_country</th>\n",
       "      <th>room_type</th>\n",
       "      <th>lead_id</th>\n",
       "    </tr>\n",
       "  </thead>\n",
       "  <tbody>\n",
       "    <tr>\n",
       "      <th>0</th>\n",
       "      <td>0</td>\n",
       "      <td>1deba9e96f404694373de9749ddd1ca8aa7bb823145a6f...</td>\n",
       "      <td>LOST</td>\n",
       "      <td>Not responding</td>\n",
       "      <td>NaN</td>\n",
       "      <td>NaN</td>\n",
       "      <td>NaN</td>\n",
       "      <td>9b2d5b4678781e53038e91ea5324530a03f27dc1d0e5f6...</td>\n",
       "      <td>9b2d5b4678781e53038e91ea5324530a03f27dc1d0e5f6...</td>\n",
       "      <td>9b2d5b4678781e53038e91ea5324530a03f27dc1d0e5f6...</td>\n",
       "      <td>3d59f7548e1af2151b64135003ce63c0a484c26b9b8b16...</td>\n",
       "      <td>268ad70eb5bc4737a2ae28162cbca30118cc94520e49ef...</td>\n",
       "      <td>ecc0e7dc084f141b29479058967d0bc07dee25d9690a98...</td>\n",
       "      <td>8d23a6e37e0a6431a8f1b43a91026dcff51170a89a6512...</td>\n",
       "      <td>NaN</td>\n",
       "      <td>cd5dc0d9393f3980d11d4ba6f88f8110c2b7a7f7796307...</td>\n",
       "    </tr>\n",
       "    <tr>\n",
       "      <th>1</th>\n",
       "      <td>1</td>\n",
       "      <td>299ae77a4ef350ae0dd37d6bba1c002d03444fb1edb236...</td>\n",
       "      <td>LOST</td>\n",
       "      <td>Low budget</td>\n",
       "      <td>NaN</td>\n",
       "      <td>NaN</td>\n",
       "      <td>NaN</td>\n",
       "      <td>9b2d5b4678781e53038e91ea5324530a03f27dc1d0e5f6...</td>\n",
       "      <td>9b2d5b4678781e53038e91ea5324530a03f27dc1d0e5f6...</td>\n",
       "      <td>9b2d5b4678781e53038e91ea5324530a03f27dc1d0e5f6...</td>\n",
       "      <td>3d59f7548e1af2151b64135003ce63c0a484c26b9b8b16...</td>\n",
       "      <td>268ad70eb5bc4737a2ae28162cbca30118cc94520e49ef...</td>\n",
       "      <td>5372372f3bf5896820cb2819300c3e681820d82c6efc54...</td>\n",
       "      <td>8d23a6e37e0a6431a8f1b43a91026dcff51170a89a6512...</td>\n",
       "      <td>NaN</td>\n",
       "      <td>b94693673a5f7178d1b114e4004ad52377d3244dd24a3d...</td>\n",
       "    </tr>\n",
       "    <tr>\n",
       "      <th>2</th>\n",
       "      <td>2</td>\n",
       "      <td>c213697430c006013012dd2aca82dd9732aa0a1a6bca13...</td>\n",
       "      <td>LOST</td>\n",
       "      <td>Not responding</td>\n",
       "      <td>£121 - £180 Per Week</td>\n",
       "      <td>Full Year Course Stay 40 - 44 weeks</td>\n",
       "      <td>31/08/22</td>\n",
       "      <td>7aae3e886e89fc1187a5c47d6cea1c22998ee610ade1f2...</td>\n",
       "      <td>9b8cc3c63cdf447e463c11544924bf027945cbd29675f7...</td>\n",
       "      <td>e09e10e67812e9d236ad900e5d46b4308fc62f5d69446a...</td>\n",
       "      <td>bbdefa2950f49882f295b1285d4fa9dec45fc4144bfb07...</td>\n",
       "      <td>09076eb7665d1fb9389c7c4517fee0b00e43092eb34821...</td>\n",
       "      <td>11ab03a1a8c367191355c152f39fe28cae5e426fce49ef...</td>\n",
       "      <td>8d23a6e37e0a6431a8f1b43a91026dcff51170a89a6512...</td>\n",
       "      <td>Ensuite</td>\n",
       "      <td>96ea4e2bf04496c044745938c0299c264c3f4ba079e572...</td>\n",
       "    </tr>\n",
       "    <tr>\n",
       "      <th>3</th>\n",
       "      <td>3</td>\n",
       "      <td>eac9815a500f908736d303e23aa227f0957177b0e6756b...</td>\n",
       "      <td>LOST</td>\n",
       "      <td>Low budget</td>\n",
       "      <td>0-0</td>\n",
       "      <td>0</td>\n",
       "      <td>NaN</td>\n",
       "      <td>ba2d0a29556ac20f86f45e4543c0825428cba33fd7a9ea...</td>\n",
       "      <td>a5f0d2d08eb0592087e3a3a2f9c1ba2c67cc30f2efd2bd...</td>\n",
       "      <td>e09e10e67812e9d236ad900e5d46b4308fc62f5d69446a...</td>\n",
       "      <td>bbdefa2950f49882f295b1285d4fa9dec45fc4144bfb07...</td>\n",
       "      <td>09076eb7665d1fb9389c7c4517fee0b00e43092eb34821...</td>\n",
       "      <td>19372fa44c57a01c37a5a8418779ca3d99b0b59731fb35...</td>\n",
       "      <td>8d23a6e37e0a6431a8f1b43a91026dcff51170a89a6512...</td>\n",
       "      <td>NaN</td>\n",
       "      <td>1d2b34d8add02a182a4129023766ca4585a8ddced0e5b3...</td>\n",
       "    </tr>\n",
       "    <tr>\n",
       "      <th>4</th>\n",
       "      <td>4</td>\n",
       "      <td>1deba9e96f404694373de9749ddd1ca8aa7bb823145a6f...</td>\n",
       "      <td>LOST</td>\n",
       "      <td>Junk lead</td>\n",
       "      <td>NaN</td>\n",
       "      <td>NaN</td>\n",
       "      <td>NaN</td>\n",
       "      <td>9b2d5b4678781e53038e91ea5324530a03f27dc1d0e5f6...</td>\n",
       "      <td>9b2d5b4678781e53038e91ea5324530a03f27dc1d0e5f6...</td>\n",
       "      <td>9b2d5b4678781e53038e91ea5324530a03f27dc1d0e5f6...</td>\n",
       "      <td>3d59f7548e1af2151b64135003ce63c0a484c26b9b8b16...</td>\n",
       "      <td>268ad70eb5bc4737a2ae28162cbca30118cc94520e49ef...</td>\n",
       "      <td>9b2d5b4678781e53038e91ea5324530a03f27dc1d0e5f6...</td>\n",
       "      <td>9b2d5b4678781e53038e91ea5324530a03f27dc1d0e5f6...</td>\n",
       "      <td>NaN</td>\n",
       "      <td>fc10fffd29cfbe93c55158fb47752a7501c211d253468c...</td>\n",
       "    </tr>\n",
       "  </tbody>\n",
       "</table>\n",
       "</div>"
      ],
      "text/plain": [
       "   Unnamed: 0                                           Agent_id status  \\\n",
       "0           0  1deba9e96f404694373de9749ddd1ca8aa7bb823145a6f...   LOST   \n",
       "1           1  299ae77a4ef350ae0dd37d6bba1c002d03444fb1edb236...   LOST   \n",
       "2           2  c213697430c006013012dd2aca82dd9732aa0a1a6bca13...   LOST   \n",
       "3           3  eac9815a500f908736d303e23aa227f0957177b0e6756b...   LOST   \n",
       "4           4  1deba9e96f404694373de9749ddd1ca8aa7bb823145a6f...   LOST   \n",
       "\n",
       "      lost_reason                budget                                lease  \\\n",
       "0  Not responding                   NaN                                  NaN   \n",
       "1      Low budget                   NaN                                  NaN   \n",
       "2  Not responding  £121 - £180 Per Week  Full Year Course Stay 40 - 44 weeks   \n",
       "3      Low budget                   0-0                                    0   \n",
       "4       Junk lead                   NaN                                  NaN   \n",
       "\n",
       "     movein                                             source  \\\n",
       "0       NaN  9b2d5b4678781e53038e91ea5324530a03f27dc1d0e5f6...   \n",
       "1       NaN  9b2d5b4678781e53038e91ea5324530a03f27dc1d0e5f6...   \n",
       "2  31/08/22  7aae3e886e89fc1187a5c47d6cea1c22998ee610ade1f2...   \n",
       "3       NaN  ba2d0a29556ac20f86f45e4543c0825428cba33fd7a9ea...   \n",
       "4       NaN  9b2d5b4678781e53038e91ea5324530a03f27dc1d0e5f6...   \n",
       "\n",
       "                                         source_city  \\\n",
       "0  9b2d5b4678781e53038e91ea5324530a03f27dc1d0e5f6...   \n",
       "1  9b2d5b4678781e53038e91ea5324530a03f27dc1d0e5f6...   \n",
       "2  9b8cc3c63cdf447e463c11544924bf027945cbd29675f7...   \n",
       "3  a5f0d2d08eb0592087e3a3a2f9c1ba2c67cc30f2efd2bd...   \n",
       "4  9b2d5b4678781e53038e91ea5324530a03f27dc1d0e5f6...   \n",
       "\n",
       "                                      source_country  \\\n",
       "0  9b2d5b4678781e53038e91ea5324530a03f27dc1d0e5f6...   \n",
       "1  9b2d5b4678781e53038e91ea5324530a03f27dc1d0e5f6...   \n",
       "2  e09e10e67812e9d236ad900e5d46b4308fc62f5d69446a...   \n",
       "3  e09e10e67812e9d236ad900e5d46b4308fc62f5d69446a...   \n",
       "4  9b2d5b4678781e53038e91ea5324530a03f27dc1d0e5f6...   \n",
       "\n",
       "                                          utm_source  \\\n",
       "0  3d59f7548e1af2151b64135003ce63c0a484c26b9b8b16...   \n",
       "1  3d59f7548e1af2151b64135003ce63c0a484c26b9b8b16...   \n",
       "2  bbdefa2950f49882f295b1285d4fa9dec45fc4144bfb07...   \n",
       "3  bbdefa2950f49882f295b1285d4fa9dec45fc4144bfb07...   \n",
       "4  3d59f7548e1af2151b64135003ce63c0a484c26b9b8b16...   \n",
       "\n",
       "                                          utm_medium  \\\n",
       "0  268ad70eb5bc4737a2ae28162cbca30118cc94520e49ef...   \n",
       "1  268ad70eb5bc4737a2ae28162cbca30118cc94520e49ef...   \n",
       "2  09076eb7665d1fb9389c7c4517fee0b00e43092eb34821...   \n",
       "3  09076eb7665d1fb9389c7c4517fee0b00e43092eb34821...   \n",
       "4  268ad70eb5bc4737a2ae28162cbca30118cc94520e49ef...   \n",
       "\n",
       "                                            des_city  \\\n",
       "0  ecc0e7dc084f141b29479058967d0bc07dee25d9690a98...   \n",
       "1  5372372f3bf5896820cb2819300c3e681820d82c6efc54...   \n",
       "2  11ab03a1a8c367191355c152f39fe28cae5e426fce49ef...   \n",
       "3  19372fa44c57a01c37a5a8418779ca3d99b0b59731fb35...   \n",
       "4  9b2d5b4678781e53038e91ea5324530a03f27dc1d0e5f6...   \n",
       "\n",
       "                                         des_country room_type  \\\n",
       "0  8d23a6e37e0a6431a8f1b43a91026dcff51170a89a6512...       NaN   \n",
       "1  8d23a6e37e0a6431a8f1b43a91026dcff51170a89a6512...       NaN   \n",
       "2  8d23a6e37e0a6431a8f1b43a91026dcff51170a89a6512...   Ensuite   \n",
       "3  8d23a6e37e0a6431a8f1b43a91026dcff51170a89a6512...       NaN   \n",
       "4  9b2d5b4678781e53038e91ea5324530a03f27dc1d0e5f6...       NaN   \n",
       "\n",
       "                                             lead_id  \n",
       "0  cd5dc0d9393f3980d11d4ba6f88f8110c2b7a7f7796307...  \n",
       "1  b94693673a5f7178d1b114e4004ad52377d3244dd24a3d...  \n",
       "2  96ea4e2bf04496c044745938c0299c264c3f4ba079e572...  \n",
       "3  1d2b34d8add02a182a4129023766ca4585a8ddced0e5b3...  \n",
       "4  fc10fffd29cfbe93c55158fb47752a7501c211d253468c...  "
      ]
     },
     "execution_count": 3,
     "metadata": {},
     "output_type": "execute_result"
    }
   ],
   "source": [
    "data.head()"
   ]
  },
  {
   "cell_type": "code",
   "execution_count": 4,
   "id": "ca8a4b7b",
   "metadata": {},
   "outputs": [
    {
     "data": {
      "text/plain": [
       "(46608, 16)"
      ]
     },
     "execution_count": 4,
     "metadata": {},
     "output_type": "execute_result"
    }
   ],
   "source": [
    "data.shape"
   ]
  },
  {
   "cell_type": "markdown",
   "id": "dc655149",
   "metadata": {},
   "source": [
    "cleaning the data---"
   ]
  },
  {
   "cell_type": "code",
   "execution_count": 5,
   "id": "ca20b394",
   "metadata": {},
   "outputs": [
    {
     "data": {
      "text/plain": [
       "Index(['Unnamed: 0', 'Agent_id', 'status', 'lost_reason', 'budget', 'lease',\n",
       "       'movein', 'source', 'source_city', 'source_country', 'utm_source',\n",
       "       'utm_medium', 'des_city', 'des_country', 'room_type', 'lead_id'],\n",
       "      dtype='object')"
      ]
     },
     "execution_count": 5,
     "metadata": {},
     "output_type": "execute_result"
    }
   ],
   "source": [
    "data.columns"
   ]
  },
  {
   "cell_type": "code",
   "execution_count": 6,
   "id": "8691291b",
   "metadata": {},
   "outputs": [
    {
     "data": {
      "text/plain": [
       "2fca346db656187102ce806ac732e06a62df0dbb2829e511a770556d398e1a6e    8186\n",
       "96ab6152cb421b4d4012a4903c19004608a342a5f7c6671a7828b8ad8d5b9489    1456\n",
       "44864c96fa1c36602f0d045b268981b6cab638a60fc207c89e3bba235f619450    1280\n",
       "fb3e2c0015ad5bcd60d7619ca575a56c15c5d2cd3f01f18e68c4dfaeee585db5    1105\n",
       "eac9815a500f908736d303e23aa227f0957177b0e6756b915a3d3cc3a846b83b    1070\n",
       "                                                                    ... \n",
       "04222ea3e14cb1209b9726defe3efce5196b7afa0a959854a30401be41f4026d       1\n",
       "fb87e6cf60af08595bd9fcf1f006a12f1338cb4480acea383b3b65da10bb9f28       1\n",
       "c904d4c3485db6569c9deb41da845d82056e8843eafba8bc8a90aaa06df96963       1\n",
       "59e19706d51d39f66711c2653cd7eb1291c94d9b55eb14bda74ce4dc636d015a       1\n",
       "4ec9599fc203d176a301536c2e091a19bc852759b255bd6818810a42c5fed14a       1\n",
       "Name: Agent_id, Length: 120, dtype: int64"
      ]
     },
     "execution_count": 6,
     "metadata": {},
     "output_type": "execute_result"
    }
   ],
   "source": [
    "data['Agent_id'].value_counts()"
   ]
  },
  {
   "cell_type": "markdown",
   "id": "3e36319a",
   "metadata": {},
   "source": [
    "drop unwanted features---\n",
    "Unnamed: 0,Agent_id,movein,source,source_city,source_country,utm_medium,utm_source,des_city,des_country,lead_id"
   ]
  },
  {
   "cell_type": "code",
   "execution_count": 7,
   "id": "d910ed00",
   "metadata": {},
   "outputs": [],
   "source": [
    "data.drop(columns=['Unnamed: 0','movein','source','source_city','source_country','utm_medium','utm_source','des_city','des_country','lead_id'],axis=1,inplace=True)"
   ]
  },
  {
   "cell_type": "code",
   "execution_count": 8,
   "id": "553bb931",
   "metadata": {},
   "outputs": [
    {
     "data": {
      "text/html": [
       "<div>\n",
       "<style scoped>\n",
       "    .dataframe tbody tr th:only-of-type {\n",
       "        vertical-align: middle;\n",
       "    }\n",
       "\n",
       "    .dataframe tbody tr th {\n",
       "        vertical-align: top;\n",
       "    }\n",
       "\n",
       "    .dataframe thead th {\n",
       "        text-align: right;\n",
       "    }\n",
       "</style>\n",
       "<table border=\"1\" class=\"dataframe\">\n",
       "  <thead>\n",
       "    <tr style=\"text-align: right;\">\n",
       "      <th></th>\n",
       "      <th>Agent_id</th>\n",
       "      <th>status</th>\n",
       "      <th>lost_reason</th>\n",
       "      <th>budget</th>\n",
       "      <th>lease</th>\n",
       "      <th>room_type</th>\n",
       "    </tr>\n",
       "  </thead>\n",
       "  <tbody>\n",
       "    <tr>\n",
       "      <th>0</th>\n",
       "      <td>1deba9e96f404694373de9749ddd1ca8aa7bb823145a6f...</td>\n",
       "      <td>LOST</td>\n",
       "      <td>Not responding</td>\n",
       "      <td>NaN</td>\n",
       "      <td>NaN</td>\n",
       "      <td>NaN</td>\n",
       "    </tr>\n",
       "    <tr>\n",
       "      <th>1</th>\n",
       "      <td>299ae77a4ef350ae0dd37d6bba1c002d03444fb1edb236...</td>\n",
       "      <td>LOST</td>\n",
       "      <td>Low budget</td>\n",
       "      <td>NaN</td>\n",
       "      <td>NaN</td>\n",
       "      <td>NaN</td>\n",
       "    </tr>\n",
       "    <tr>\n",
       "      <th>2</th>\n",
       "      <td>c213697430c006013012dd2aca82dd9732aa0a1a6bca13...</td>\n",
       "      <td>LOST</td>\n",
       "      <td>Not responding</td>\n",
       "      <td>£121 - £180 Per Week</td>\n",
       "      <td>Full Year Course Stay 40 - 44 weeks</td>\n",
       "      <td>Ensuite</td>\n",
       "    </tr>\n",
       "    <tr>\n",
       "      <th>3</th>\n",
       "      <td>eac9815a500f908736d303e23aa227f0957177b0e6756b...</td>\n",
       "      <td>LOST</td>\n",
       "      <td>Low budget</td>\n",
       "      <td>0-0</td>\n",
       "      <td>0</td>\n",
       "      <td>NaN</td>\n",
       "    </tr>\n",
       "    <tr>\n",
       "      <th>4</th>\n",
       "      <td>1deba9e96f404694373de9749ddd1ca8aa7bb823145a6f...</td>\n",
       "      <td>LOST</td>\n",
       "      <td>Junk lead</td>\n",
       "      <td>NaN</td>\n",
       "      <td>NaN</td>\n",
       "      <td>NaN</td>\n",
       "    </tr>\n",
       "    <tr>\n",
       "      <th>5</th>\n",
       "      <td>2306878a9ad9b57686cd623dd285aaa9b25afdf627f651...</td>\n",
       "      <td>LOST</td>\n",
       "      <td>Wants private accommodation</td>\n",
       "      <td>120</td>\n",
       "      <td>semester-stay</td>\n",
       "      <td>NaN</td>\n",
       "    </tr>\n",
       "    <tr>\n",
       "      <th>6</th>\n",
       "      <td>2306878a9ad9b57686cd623dd285aaa9b25afdf627f651...</td>\n",
       "      <td>LOST</td>\n",
       "      <td>Short stay</td>\n",
       "      <td>0-0</td>\n",
       "      <td>0</td>\n",
       "      <td>NaN</td>\n",
       "    </tr>\n",
       "    <tr>\n",
       "      <th>7</th>\n",
       "      <td>44864c96fa1c36602f0d045b268981b6cab638a60fc207...</td>\n",
       "      <td>LOST</td>\n",
       "      <td>Wants private accommodation</td>\n",
       "      <td>£181 - £240 Per Week</td>\n",
       "      <td>51</td>\n",
       "      <td>Entire Place</td>\n",
       "    </tr>\n",
       "    <tr>\n",
       "      <th>8</th>\n",
       "      <td>ab6bb4584e9946b135dca2e39d12abba3ea82d5ea927d0...</td>\n",
       "      <td>LOST</td>\n",
       "      <td>Low budget</td>\n",
       "      <td>100</td>\n",
       "      <td>Semester Stay 20 - 24 weeks</td>\n",
       "      <td>NaN</td>\n",
       "    </tr>\n",
       "    <tr>\n",
       "      <th>9</th>\n",
       "      <td>131127203c89e8219dbdfe2f597538759310f40918b222...</td>\n",
       "      <td>LOST</td>\n",
       "      <td>Booked with manager</td>\n",
       "      <td>270</td>\n",
       "      <td>51</td>\n",
       "      <td>NaN</td>\n",
       "    </tr>\n",
       "  </tbody>\n",
       "</table>\n",
       "</div>"
      ],
      "text/plain": [
       "                                            Agent_id status  \\\n",
       "0  1deba9e96f404694373de9749ddd1ca8aa7bb823145a6f...   LOST   \n",
       "1  299ae77a4ef350ae0dd37d6bba1c002d03444fb1edb236...   LOST   \n",
       "2  c213697430c006013012dd2aca82dd9732aa0a1a6bca13...   LOST   \n",
       "3  eac9815a500f908736d303e23aa227f0957177b0e6756b...   LOST   \n",
       "4  1deba9e96f404694373de9749ddd1ca8aa7bb823145a6f...   LOST   \n",
       "5  2306878a9ad9b57686cd623dd285aaa9b25afdf627f651...   LOST   \n",
       "6  2306878a9ad9b57686cd623dd285aaa9b25afdf627f651...   LOST   \n",
       "7  44864c96fa1c36602f0d045b268981b6cab638a60fc207...   LOST   \n",
       "8  ab6bb4584e9946b135dca2e39d12abba3ea82d5ea927d0...   LOST   \n",
       "9  131127203c89e8219dbdfe2f597538759310f40918b222...   LOST   \n",
       "\n",
       "                   lost_reason                budget  \\\n",
       "0               Not responding                   NaN   \n",
       "1                   Low budget                   NaN   \n",
       "2               Not responding  £121 - £180 Per Week   \n",
       "3                   Low budget                   0-0   \n",
       "4                    Junk lead                   NaN   \n",
       "5  Wants private accommodation                   120   \n",
       "6                   Short stay                   0-0   \n",
       "7  Wants private accommodation  £181 - £240 Per Week   \n",
       "8                   Low budget                   100   \n",
       "9          Booked with manager                   270   \n",
       "\n",
       "                                 lease     room_type  \n",
       "0                                  NaN           NaN  \n",
       "1                                  NaN           NaN  \n",
       "2  Full Year Course Stay 40 - 44 weeks       Ensuite  \n",
       "3                                    0           NaN  \n",
       "4                                  NaN           NaN  \n",
       "5                        semester-stay           NaN  \n",
       "6                                    0           NaN  \n",
       "7                                   51  Entire Place  \n",
       "8          Semester Stay 20 - 24 weeks           NaN  \n",
       "9                                   51           NaN  "
      ]
     },
     "execution_count": 8,
     "metadata": {},
     "output_type": "execute_result"
    }
   ],
   "source": [
    "data.head(10)"
   ]
  },
  {
   "cell_type": "code",
   "execution_count": 9,
   "id": "2d955a80",
   "metadata": {},
   "outputs": [
    {
     "name": "stdout",
     "output_type": "stream",
     "text": [
      "<class 'pandas.core.frame.DataFrame'>\n",
      "RangeIndex: 46608 entries, 0 to 46607\n",
      "Data columns (total 6 columns):\n",
      " #   Column       Non-Null Count  Dtype \n",
      "---  ------       --------------  ----- \n",
      " 0   Agent_id     46608 non-null  object\n",
      " 1   status       46608 non-null  object\n",
      " 2   lost_reason  43244 non-null  object\n",
      " 3   budget       42908 non-null  object\n",
      " 4   lease        44267 non-null  object\n",
      " 5   room_type    23061 non-null  object\n",
      "dtypes: object(6)\n",
      "memory usage: 2.1+ MB\n"
     ]
    }
   ],
   "source": [
    "data.info()"
   ]
  },
  {
   "cell_type": "code",
   "execution_count": 10,
   "id": "57efd8fb",
   "metadata": {},
   "outputs": [
    {
     "data": {
      "text/plain": [
       "£60 - £120 Per week     9862\n",
       "£121 - £180 Per Week    8954\n",
       "0-0                     5733\n",
       "£181 - £240 Per Week    2171\n",
       "100                     1516\n",
       "                        ... \n",
       "0-80-100$                  1\n",
       "0-235                      1\n",
       "£120-160 Per Week          1\n",
       "1400 per month             1\n",
       "0-500 PCM                  1\n",
       "Name: budget, Length: 1857, dtype: int64"
      ]
     },
     "execution_count": 10,
     "metadata": {},
     "output_type": "execute_result"
    }
   ],
   "source": [
    "data['budget'].value_counts()"
   ]
  },
  {
   "cell_type": "code",
   "execution_count": 11,
   "id": "c07749bd",
   "metadata": {},
   "outputs": [],
   "source": [
    "df_frequency_map  = data['budget'].value_counts().to_dict()"
   ]
  },
  {
   "cell_type": "code",
   "execution_count": 12,
   "id": "c31c737a",
   "metadata": {},
   "outputs": [],
   "source": [
    "#Apply whole dictonary to its budget colun\n",
    "\n",
    "data['budget'] = data['budget'].map(df_frequency_map)"
   ]
  },
  {
   "cell_type": "code",
   "execution_count": 13,
   "id": "fcc4d9a8",
   "metadata": {},
   "outputs": [
    {
     "data": {
      "text/html": [
       "<div>\n",
       "<style scoped>\n",
       "    .dataframe tbody tr th:only-of-type {\n",
       "        vertical-align: middle;\n",
       "    }\n",
       "\n",
       "    .dataframe tbody tr th {\n",
       "        vertical-align: top;\n",
       "    }\n",
       "\n",
       "    .dataframe thead th {\n",
       "        text-align: right;\n",
       "    }\n",
       "</style>\n",
       "<table border=\"1\" class=\"dataframe\">\n",
       "  <thead>\n",
       "    <tr style=\"text-align: right;\">\n",
       "      <th></th>\n",
       "      <th>Agent_id</th>\n",
       "      <th>status</th>\n",
       "      <th>lost_reason</th>\n",
       "      <th>budget</th>\n",
       "      <th>lease</th>\n",
       "      <th>room_type</th>\n",
       "    </tr>\n",
       "  </thead>\n",
       "  <tbody>\n",
       "    <tr>\n",
       "      <th>0</th>\n",
       "      <td>1deba9e96f404694373de9749ddd1ca8aa7bb823145a6f...</td>\n",
       "      <td>LOST</td>\n",
       "      <td>Not responding</td>\n",
       "      <td>NaN</td>\n",
       "      <td>NaN</td>\n",
       "      <td>NaN</td>\n",
       "    </tr>\n",
       "    <tr>\n",
       "      <th>1</th>\n",
       "      <td>299ae77a4ef350ae0dd37d6bba1c002d03444fb1edb236...</td>\n",
       "      <td>LOST</td>\n",
       "      <td>Low budget</td>\n",
       "      <td>NaN</td>\n",
       "      <td>NaN</td>\n",
       "      <td>NaN</td>\n",
       "    </tr>\n",
       "    <tr>\n",
       "      <th>2</th>\n",
       "      <td>c213697430c006013012dd2aca82dd9732aa0a1a6bca13...</td>\n",
       "      <td>LOST</td>\n",
       "      <td>Not responding</td>\n",
       "      <td>8954.0</td>\n",
       "      <td>Full Year Course Stay 40 - 44 weeks</td>\n",
       "      <td>Ensuite</td>\n",
       "    </tr>\n",
       "    <tr>\n",
       "      <th>3</th>\n",
       "      <td>eac9815a500f908736d303e23aa227f0957177b0e6756b...</td>\n",
       "      <td>LOST</td>\n",
       "      <td>Low budget</td>\n",
       "      <td>5733.0</td>\n",
       "      <td>0</td>\n",
       "      <td>NaN</td>\n",
       "    </tr>\n",
       "    <tr>\n",
       "      <th>4</th>\n",
       "      <td>1deba9e96f404694373de9749ddd1ca8aa7bb823145a6f...</td>\n",
       "      <td>LOST</td>\n",
       "      <td>Junk lead</td>\n",
       "      <td>NaN</td>\n",
       "      <td>NaN</td>\n",
       "      <td>NaN</td>\n",
       "    </tr>\n",
       "  </tbody>\n",
       "</table>\n",
       "</div>"
      ],
      "text/plain": [
       "                                            Agent_id status     lost_reason  \\\n",
       "0  1deba9e96f404694373de9749ddd1ca8aa7bb823145a6f...   LOST  Not responding   \n",
       "1  299ae77a4ef350ae0dd37d6bba1c002d03444fb1edb236...   LOST      Low budget   \n",
       "2  c213697430c006013012dd2aca82dd9732aa0a1a6bca13...   LOST  Not responding   \n",
       "3  eac9815a500f908736d303e23aa227f0957177b0e6756b...   LOST      Low budget   \n",
       "4  1deba9e96f404694373de9749ddd1ca8aa7bb823145a6f...   LOST       Junk lead   \n",
       "\n",
       "   budget                                lease room_type  \n",
       "0     NaN                                  NaN       NaN  \n",
       "1     NaN                                  NaN       NaN  \n",
       "2  8954.0  Full Year Course Stay 40 - 44 weeks   Ensuite  \n",
       "3  5733.0                                    0       NaN  \n",
       "4     NaN                                  NaN       NaN  "
      ]
     },
     "execution_count": 13,
     "metadata": {},
     "output_type": "execute_result"
    }
   ],
   "source": [
    "data.head()"
   ]
  },
  {
   "cell_type": "code",
   "execution_count": 14,
   "id": "077ea205",
   "metadata": {},
   "outputs": [],
   "source": [
    "#Now for lease column\n",
    "\n",
    "df_frequency_lease = data['lease'].value_counts().to_dict()"
   ]
  },
  {
   "cell_type": "code",
   "execution_count": 15,
   "id": "01e0e98c",
   "metadata": {},
   "outputs": [],
   "source": [
    "data['lease'] = data['lease'].map(df_frequency_lease)"
   ]
  },
  {
   "cell_type": "code",
   "execution_count": 16,
   "id": "4fbf1594",
   "metadata": {},
   "outputs": [],
   "source": [
    "# Now drop duplicate column--\n",
    "data.drop_duplicates(inplace=True)"
   ]
  },
  {
   "cell_type": "code",
   "execution_count": 17,
   "id": "0dd2d30d",
   "metadata": {},
   "outputs": [
    {
     "data": {
      "text/plain": [
       "(24085, 6)"
      ]
     },
     "execution_count": 17,
     "metadata": {},
     "output_type": "execute_result"
    }
   ],
   "source": [
    "data.shape"
   ]
  },
  {
   "cell_type": "code",
   "execution_count": 18,
   "id": "c412ee26",
   "metadata": {},
   "outputs": [
    {
     "data": {
      "text/plain": [
       "12725"
      ]
     },
     "execution_count": 18,
     "metadata": {},
     "output_type": "execute_result"
    }
   ],
   "source": [
    "data['room_type'].isnull().sum()"
   ]
  },
  {
   "cell_type": "markdown",
   "id": "a37d71d7",
   "metadata": {},
   "source": [
    "In features room type has more than 50% missing and feature with Agent_id has no any relation so we want to drop it"
   ]
  },
  {
   "cell_type": "code",
   "execution_count": 19,
   "id": "19779261",
   "metadata": {},
   "outputs": [],
   "source": [
    "data.drop(columns=['Agent_id','room_type'],inplace=True)"
   ]
  },
  {
   "cell_type": "code",
   "execution_count": 20,
   "id": "4ab46482",
   "metadata": {},
   "outputs": [
    {
     "data": {
      "text/html": [
       "<div>\n",
       "<style scoped>\n",
       "    .dataframe tbody tr th:only-of-type {\n",
       "        vertical-align: middle;\n",
       "    }\n",
       "\n",
       "    .dataframe tbody tr th {\n",
       "        vertical-align: top;\n",
       "    }\n",
       "\n",
       "    .dataframe thead th {\n",
       "        text-align: right;\n",
       "    }\n",
       "</style>\n",
       "<table border=\"1\" class=\"dataframe\">\n",
       "  <thead>\n",
       "    <tr style=\"text-align: right;\">\n",
       "      <th></th>\n",
       "      <th>status</th>\n",
       "      <th>lost_reason</th>\n",
       "      <th>budget</th>\n",
       "      <th>lease</th>\n",
       "    </tr>\n",
       "  </thead>\n",
       "  <tbody>\n",
       "    <tr>\n",
       "      <th>0</th>\n",
       "      <td>LOST</td>\n",
       "      <td>Not responding</td>\n",
       "      <td>NaN</td>\n",
       "      <td>NaN</td>\n",
       "    </tr>\n",
       "    <tr>\n",
       "      <th>1</th>\n",
       "      <td>LOST</td>\n",
       "      <td>Low budget</td>\n",
       "      <td>NaN</td>\n",
       "      <td>NaN</td>\n",
       "    </tr>\n",
       "    <tr>\n",
       "      <th>2</th>\n",
       "      <td>LOST</td>\n",
       "      <td>Not responding</td>\n",
       "      <td>8954.0</td>\n",
       "      <td>11111.0</td>\n",
       "    </tr>\n",
       "    <tr>\n",
       "      <th>3</th>\n",
       "      <td>LOST</td>\n",
       "      <td>Low budget</td>\n",
       "      <td>5733.0</td>\n",
       "      <td>7551.0</td>\n",
       "    </tr>\n",
       "    <tr>\n",
       "      <th>4</th>\n",
       "      <td>LOST</td>\n",
       "      <td>Junk lead</td>\n",
       "      <td>NaN</td>\n",
       "      <td>NaN</td>\n",
       "    </tr>\n",
       "  </tbody>\n",
       "</table>\n",
       "</div>"
      ],
      "text/plain": [
       "  status     lost_reason  budget    lease\n",
       "0   LOST  Not responding     NaN      NaN\n",
       "1   LOST      Low budget     NaN      NaN\n",
       "2   LOST  Not responding  8954.0  11111.0\n",
       "3   LOST      Low budget  5733.0   7551.0\n",
       "4   LOST       Junk lead     NaN      NaN"
      ]
     },
     "execution_count": 20,
     "metadata": {},
     "output_type": "execute_result"
    }
   ],
   "source": [
    "data.head()"
   ]
  },
  {
   "cell_type": "code",
   "execution_count": 21,
   "id": "128cfbd5",
   "metadata": {},
   "outputs": [
    {
     "data": {
      "text/plain": [
       "LOST           21712\n",
       "WON             2112\n",
       "OPPORTUNITY      224\n",
       "CONTACTED         28\n",
       "PROCESSING         8\n",
       "IMPORTANT          1\n",
       "Name: status, dtype: int64"
      ]
     },
     "execution_count": 21,
     "metadata": {},
     "output_type": "execute_result"
    }
   ],
   "source": [
    "data['status'].value_counts()"
   ]
  },
  {
   "cell_type": "markdown",
   "id": "04a9e920",
   "metadata": {},
   "source": [
    "In feature with status has a information like 'OPPORTUNITY','CONTACTED','PROCESSING','IMPORTANT' has a positive meaning so we want to map into 'WON'"
   ]
  },
  {
   "cell_type": "code",
   "execution_count": 22,
   "id": "a510e8fb",
   "metadata": {},
   "outputs": [
    {
     "data": {
      "text/plain": [
       "LOST           21712\n",
       "WON             2112\n",
       "OPPORTUNITY      224\n",
       "CONTACTED         28\n",
       "PROCESSING         8\n",
       "IMPORTANT          1\n",
       "Name: status, dtype: int64"
      ]
     },
     "execution_count": 22,
     "metadata": {},
     "output_type": "execute_result"
    }
   ],
   "source": [
    "data['status'].value_counts()"
   ]
  },
  {
   "cell_type": "code",
   "execution_count": 23,
   "id": "e268a53f",
   "metadata": {},
   "outputs": [],
   "source": [
    "data.loc[data['status']=='OPPORTUNITY',['status']] = 'WON'"
   ]
  },
  {
   "cell_type": "code",
   "execution_count": 24,
   "id": "7e37229e",
   "metadata": {},
   "outputs": [],
   "source": [
    "data.loc[data['status']=='CONTACTED',['status']] = 'WON'"
   ]
  },
  {
   "cell_type": "code",
   "execution_count": 25,
   "id": "43ddd484",
   "metadata": {},
   "outputs": [],
   "source": [
    "data.loc[data['status']=='PROCESSING',['status']]='WON'"
   ]
  },
  {
   "cell_type": "code",
   "execution_count": 26,
   "id": "f2582bcd",
   "metadata": {},
   "outputs": [],
   "source": [
    "data.loc[data['status']=='IMPORTANT',['status']]='WON'"
   ]
  },
  {
   "cell_type": "code",
   "execution_count": 27,
   "id": "f8eb9c4a",
   "metadata": {},
   "outputs": [
    {
     "data": {
      "text/plain": [
       "LOST    21712\n",
       "WON      2373\n",
       "Name: status, dtype: int64"
      ]
     },
     "execution_count": 27,
     "metadata": {},
     "output_type": "execute_result"
    }
   ],
   "source": [
    "data['status'].value_counts()"
   ]
  },
  {
   "cell_type": "markdown",
   "id": "e845334e",
   "metadata": {},
   "source": [
    "Now checking the missing value--"
   ]
  },
  {
   "cell_type": "code",
   "execution_count": 28,
   "id": "9b86c8b9",
   "metadata": {},
   "outputs": [
    {
     "data": {
      "text/plain": [
       "status            0\n",
       "lost_reason    2373\n",
       "budget         1122\n",
       "lease           686\n",
       "dtype: int64"
      ]
     },
     "execution_count": 28,
     "metadata": {},
     "output_type": "execute_result"
    }
   ],
   "source": [
    "data.isnull().sum()"
   ]
  },
  {
   "cell_type": "markdown",
   "id": "fca2f620",
   "metadata": {},
   "source": [
    "Now filling the Missing value---"
   ]
  },
  {
   "cell_type": "markdown",
   "id": "92540385",
   "metadata": {},
   "source": [
    "we have varios method for imputing method missing value --- mean,mode,median,simple impution,knn impution..\n",
    "In this case we apply the knn impution."
   ]
  },
  {
   "cell_type": "code",
   "execution_count": 29,
   "id": "c8bcebc7",
   "metadata": {},
   "outputs": [
    {
     "data": {
      "text/html": [
       "<div>\n",
       "<style scoped>\n",
       "    .dataframe tbody tr th:only-of-type {\n",
       "        vertical-align: middle;\n",
       "    }\n",
       "\n",
       "    .dataframe tbody tr th {\n",
       "        vertical-align: top;\n",
       "    }\n",
       "\n",
       "    .dataframe thead th {\n",
       "        text-align: right;\n",
       "    }\n",
       "</style>\n",
       "<table border=\"1\" class=\"dataframe\">\n",
       "  <thead>\n",
       "    <tr style=\"text-align: right;\">\n",
       "      <th></th>\n",
       "      <th>status</th>\n",
       "      <th>lost_reason</th>\n",
       "      <th>budget</th>\n",
       "      <th>lease</th>\n",
       "    </tr>\n",
       "  </thead>\n",
       "  <tbody>\n",
       "    <tr>\n",
       "      <th>0</th>\n",
       "      <td>LOST</td>\n",
       "      <td>Not responding</td>\n",
       "      <td>NaN</td>\n",
       "      <td>NaN</td>\n",
       "    </tr>\n",
       "    <tr>\n",
       "      <th>1</th>\n",
       "      <td>LOST</td>\n",
       "      <td>Low budget</td>\n",
       "      <td>NaN</td>\n",
       "      <td>NaN</td>\n",
       "    </tr>\n",
       "    <tr>\n",
       "      <th>2</th>\n",
       "      <td>LOST</td>\n",
       "      <td>Not responding</td>\n",
       "      <td>8954.0</td>\n",
       "      <td>11111.0</td>\n",
       "    </tr>\n",
       "    <tr>\n",
       "      <th>3</th>\n",
       "      <td>LOST</td>\n",
       "      <td>Low budget</td>\n",
       "      <td>5733.0</td>\n",
       "      <td>7551.0</td>\n",
       "    </tr>\n",
       "    <tr>\n",
       "      <th>4</th>\n",
       "      <td>LOST</td>\n",
       "      <td>Junk lead</td>\n",
       "      <td>NaN</td>\n",
       "      <td>NaN</td>\n",
       "    </tr>\n",
       "  </tbody>\n",
       "</table>\n",
       "</div>"
      ],
      "text/plain": [
       "  status     lost_reason  budget    lease\n",
       "0   LOST  Not responding     NaN      NaN\n",
       "1   LOST      Low budget     NaN      NaN\n",
       "2   LOST  Not responding  8954.0  11111.0\n",
       "3   LOST      Low budget  5733.0   7551.0\n",
       "4   LOST       Junk lead     NaN      NaN"
      ]
     },
     "execution_count": 29,
     "metadata": {},
     "output_type": "execute_result"
    }
   ],
   "source": [
    "data.head()"
   ]
  },
  {
   "cell_type": "code",
   "execution_count": 30,
   "id": "3a2b76ac",
   "metadata": {},
   "outputs": [],
   "source": [
    "from sklearn.impute import SimpleImputer\n",
    "import numpy as np\n",
    "simpleimputer = SimpleImputer(missing_values=np.NaN,strategy='most_frequent')\n",
    "data['lost_reason']=simpleimputer.fit_transform(data['lost_reason'].values.reshape(-1,1))"
   ]
  },
  {
   "cell_type": "code",
   "execution_count": 31,
   "id": "ac44a7b4",
   "metadata": {},
   "outputs": [
    {
     "data": {
      "text/plain": [
       "0"
      ]
     },
     "execution_count": 31,
     "metadata": {},
     "output_type": "execute_result"
    }
   ],
   "source": [
    "data['lost_reason'].isnull().sum()"
   ]
  },
  {
   "cell_type": "code",
   "execution_count": 32,
   "id": "5f2d10b4",
   "metadata": {},
   "outputs": [],
   "source": [
    "from sklearn.impute import KNNImputer\n",
    "imputer_budget = KNNImputer(n_neighbors=3)\n",
    "data['budget']=imputer_budget.fit_transform(data['budget'].values.reshape(-1,1))"
   ]
  },
  {
   "cell_type": "code",
   "execution_count": 33,
   "id": "25f62306",
   "metadata": {},
   "outputs": [],
   "source": [
    "imputer_lease = KNNImputer(n_neighbors=3)\n",
    "data['lease']=imputer_lease.fit_transform(data['lease'].values.reshape(-1,1))"
   ]
  },
  {
   "cell_type": "code",
   "execution_count": 34,
   "id": "089b8191",
   "metadata": {},
   "outputs": [
    {
     "data": {
      "text/plain": [
       "status         0\n",
       "lost_reason    0\n",
       "budget         0\n",
       "lease          0\n",
       "dtype: int64"
      ]
     },
     "execution_count": 34,
     "metadata": {},
     "output_type": "execute_result"
    }
   ],
   "source": [
    "data.isnull().sum()"
   ]
  },
  {
   "cell_type": "code",
   "execution_count": 35,
   "id": "203c1154",
   "metadata": {},
   "outputs": [
    {
     "data": {
      "text/html": [
       "<div>\n",
       "<style scoped>\n",
       "    .dataframe tbody tr th:only-of-type {\n",
       "        vertical-align: middle;\n",
       "    }\n",
       "\n",
       "    .dataframe tbody tr th {\n",
       "        vertical-align: top;\n",
       "    }\n",
       "\n",
       "    .dataframe thead th {\n",
       "        text-align: right;\n",
       "    }\n",
       "</style>\n",
       "<table border=\"1\" class=\"dataframe\">\n",
       "  <thead>\n",
       "    <tr style=\"text-align: right;\">\n",
       "      <th></th>\n",
       "      <th>status</th>\n",
       "      <th>lost_reason</th>\n",
       "      <th>budget</th>\n",
       "      <th>lease</th>\n",
       "    </tr>\n",
       "  </thead>\n",
       "  <tbody>\n",
       "    <tr>\n",
       "      <th>0</th>\n",
       "      <td>LOST</td>\n",
       "      <td>Not responding</td>\n",
       "      <td>3993.868266</td>\n",
       "      <td>4695.840378</td>\n",
       "    </tr>\n",
       "    <tr>\n",
       "      <th>1</th>\n",
       "      <td>LOST</td>\n",
       "      <td>Low budget</td>\n",
       "      <td>3993.868266</td>\n",
       "      <td>4695.840378</td>\n",
       "    </tr>\n",
       "    <tr>\n",
       "      <th>2</th>\n",
       "      <td>LOST</td>\n",
       "      <td>Not responding</td>\n",
       "      <td>8954.000000</td>\n",
       "      <td>11111.000000</td>\n",
       "    </tr>\n",
       "    <tr>\n",
       "      <th>3</th>\n",
       "      <td>LOST</td>\n",
       "      <td>Low budget</td>\n",
       "      <td>5733.000000</td>\n",
       "      <td>7551.000000</td>\n",
       "    </tr>\n",
       "    <tr>\n",
       "      <th>4</th>\n",
       "      <td>LOST</td>\n",
       "      <td>Junk lead</td>\n",
       "      <td>3993.868266</td>\n",
       "      <td>4695.840378</td>\n",
       "    </tr>\n",
       "    <tr>\n",
       "      <th>...</th>\n",
       "      <td>...</td>\n",
       "      <td>...</td>\n",
       "      <td>...</td>\n",
       "      <td>...</td>\n",
       "    </tr>\n",
       "    <tr>\n",
       "      <th>46601</th>\n",
       "      <td>LOST</td>\n",
       "      <td>Low availability</td>\n",
       "      <td>2.000000</td>\n",
       "      <td>29.000000</td>\n",
       "    </tr>\n",
       "    <tr>\n",
       "      <th>46602</th>\n",
       "      <td>LOST</td>\n",
       "      <td>Wants private accommodation</td>\n",
       "      <td>8954.000000</td>\n",
       "      <td>943.000000</td>\n",
       "    </tr>\n",
       "    <tr>\n",
       "      <th>46603</th>\n",
       "      <td>LOST</td>\n",
       "      <td>Low availability</td>\n",
       "      <td>9862.000000</td>\n",
       "      <td>6538.000000</td>\n",
       "    </tr>\n",
       "    <tr>\n",
       "      <th>46605</th>\n",
       "      <td>LOST</td>\n",
       "      <td>Low availability</td>\n",
       "      <td>720.000000</td>\n",
       "      <td>11111.000000</td>\n",
       "    </tr>\n",
       "    <tr>\n",
       "      <th>46606</th>\n",
       "      <td>LOST</td>\n",
       "      <td>Low availability</td>\n",
       "      <td>5.000000</td>\n",
       "      <td>44.000000</td>\n",
       "    </tr>\n",
       "  </tbody>\n",
       "</table>\n",
       "<p>24085 rows × 4 columns</p>\n",
       "</div>"
      ],
      "text/plain": [
       "      status                  lost_reason       budget         lease\n",
       "0       LOST               Not responding  3993.868266   4695.840378\n",
       "1       LOST                   Low budget  3993.868266   4695.840378\n",
       "2       LOST               Not responding  8954.000000  11111.000000\n",
       "3       LOST                   Low budget  5733.000000   7551.000000\n",
       "4       LOST                    Junk lead  3993.868266   4695.840378\n",
       "...      ...                          ...          ...           ...\n",
       "46601   LOST             Low availability     2.000000     29.000000\n",
       "46602   LOST  Wants private accommodation  8954.000000    943.000000\n",
       "46603   LOST             Low availability  9862.000000   6538.000000\n",
       "46605   LOST             Low availability   720.000000  11111.000000\n",
       "46606   LOST             Low availability     5.000000     44.000000\n",
       "\n",
       "[24085 rows x 4 columns]"
      ]
     },
     "execution_count": 35,
     "metadata": {},
     "output_type": "execute_result"
    }
   ],
   "source": [
    "data"
   ]
  },
  {
   "cell_type": "code",
   "execution_count": 36,
   "id": "6e93a6b3",
   "metadata": {},
   "outputs": [
    {
     "data": {
      "text/html": [
       "<div>\n",
       "<style scoped>\n",
       "    .dataframe tbody tr th:only-of-type {\n",
       "        vertical-align: middle;\n",
       "    }\n",
       "\n",
       "    .dataframe tbody tr th {\n",
       "        vertical-align: top;\n",
       "    }\n",
       "\n",
       "    .dataframe thead th {\n",
       "        text-align: right;\n",
       "    }\n",
       "</style>\n",
       "<table border=\"1\" class=\"dataframe\">\n",
       "  <thead>\n",
       "    <tr style=\"text-align: right;\">\n",
       "      <th></th>\n",
       "      <th>budget</th>\n",
       "      <th>lease</th>\n",
       "    </tr>\n",
       "  </thead>\n",
       "  <tbody>\n",
       "    <tr>\n",
       "      <th>count</th>\n",
       "      <td>24085.000000</td>\n",
       "      <td>24085.000000</td>\n",
       "    </tr>\n",
       "    <tr>\n",
       "      <th>mean</th>\n",
       "      <td>3993.868266</td>\n",
       "      <td>4695.840378</td>\n",
       "    </tr>\n",
       "    <tr>\n",
       "      <th>std</th>\n",
       "      <td>4142.182153</td>\n",
       "      <td>3787.375701</td>\n",
       "    </tr>\n",
       "    <tr>\n",
       "      <th>min</th>\n",
       "      <td>1.000000</td>\n",
       "      <td>1.000000</td>\n",
       "    </tr>\n",
       "    <tr>\n",
       "      <th>25%</th>\n",
       "      <td>217.000000</td>\n",
       "      <td>1222.000000</td>\n",
       "    </tr>\n",
       "    <tr>\n",
       "      <th>50%</th>\n",
       "      <td>1516.000000</td>\n",
       "      <td>3963.000000</td>\n",
       "    </tr>\n",
       "    <tr>\n",
       "      <th>75%</th>\n",
       "      <td>8954.000000</td>\n",
       "      <td>7551.000000</td>\n",
       "    </tr>\n",
       "    <tr>\n",
       "      <th>max</th>\n",
       "      <td>9862.000000</td>\n",
       "      <td>11111.000000</td>\n",
       "    </tr>\n",
       "  </tbody>\n",
       "</table>\n",
       "</div>"
      ],
      "text/plain": [
       "             budget         lease\n",
       "count  24085.000000  24085.000000\n",
       "mean    3993.868266   4695.840378\n",
       "std     4142.182153   3787.375701\n",
       "min        1.000000      1.000000\n",
       "25%      217.000000   1222.000000\n",
       "50%     1516.000000   3963.000000\n",
       "75%     8954.000000   7551.000000\n",
       "max     9862.000000  11111.000000"
      ]
     },
     "execution_count": 36,
     "metadata": {},
     "output_type": "execute_result"
    }
   ],
   "source": [
    "data.describe()"
   ]
  },
  {
   "cell_type": "markdown",
   "id": "1774d571",
   "metadata": {},
   "source": [
    "Now EDA start"
   ]
  },
  {
   "cell_type": "code",
   "execution_count": 37,
   "id": "c7daf2f2",
   "metadata": {},
   "outputs": [
    {
     "data": {
      "text/plain": [
       "<seaborn.axisgrid.FacetGrid at 0x1e2b3bac7c0>"
      ]
     },
     "execution_count": 37,
     "metadata": {},
     "output_type": "execute_result"
    },
    {
     "data": {
      "image/png": "[encoded data removed]",
      "text/plain": [
       "<Figure size 360x360 with 1 Axes>"
      ]
     },
     "metadata": {
      "needs_background": "light"
     },
     "output_type": "display_data"
    }
   ],
   "source": [
    "import seaborn as sns\n",
    "\n",
    "sns.catplot(data=data, x=\"status\", y=\"budget\", hue=\"status\", kind=\"bar\")\n"
   ]
  },
  {
   "cell_type": "code",
   "execution_count": 38,
   "id": "48af2745",
   "metadata": {},
   "outputs": [
    {
     "data": {
      "text/plain": [
       "<seaborn.axisgrid.FacetGrid at 0x1e2b429b7f0>"
      ]
     },
     "execution_count": 38,
     "metadata": {},
     "output_type": "execute_result"
    },
    {
     "data": {
      "image/png": "[encoded data removed]",
      "text/plain": [
       "<Figure size 360x360 with 1 Axes>"
      ]
     },
     "metadata": {
      "needs_background": "light"
     },
     "output_type": "display_data"
    }
   ],
   "source": [
    "sns.catplot(data=data, x=\"status\", y=\"lease\", hue=\"status\", kind=\"bar\")\n"
   ]
  },
  {
   "cell_type": "markdown",
   "id": "8565050b",
   "metadata": {},
   "source": [
    "we check the outlier on budget and lease feature"
   ]
  },
  {
   "cell_type": "code",
   "execution_count": 39,
   "id": "6db2c938",
   "metadata": {},
   "outputs": [
    {
     "name": "stderr",
     "output_type": "stream",
     "text": [
      "C:\\Users\\Dinbandhu Suman\\anaconda3\\lib\\site-packages\\seaborn\\_decorators.py:36: FutureWarning: Pass the following variable as a keyword arg: x. From version 0.12, the only valid positional argument will be `data`, and passing other arguments without an explicit keyword will result in an error or misinterpretation.\n",
      "  warnings.warn(\n"
     ]
    },
    {
     "data": {
      "text/plain": [
       "<AxesSubplot:xlabel='budget'>"
      ]
     },
     "execution_count": 39,
     "metadata": {},
     "output_type": "execute_result"
    },
    {
     "data": {
      "image/png": "[encoded data removed]",
      "text/plain": [
       "<Figure size 432x288 with 1 Axes>"
      ]
     },
     "metadata": {
      "needs_background": "light"
     },
     "output_type": "display_data"
    }
   ],
   "source": [
    "sns.boxplot(data['budget'])"
   ]
  },
  {
   "cell_type": "code",
   "execution_count": 40,
   "id": "ce734fd6",
   "metadata": {},
   "outputs": [
    {
     "name": "stderr",
     "output_type": "stream",
     "text": [
      "C:\\Users\\Dinbandhu Suman\\anaconda3\\lib\\site-packages\\seaborn\\_decorators.py:36: FutureWarning: Pass the following variable as a keyword arg: x. From version 0.12, the only valid positional argument will be `data`, and passing other arguments without an explicit keyword will result in an error or misinterpretation.\n",
      "  warnings.warn(\n"
     ]
    },
    {
     "data": {
      "text/plain": [
       "<AxesSubplot:xlabel='lease'>"
      ]
     },
     "execution_count": 40,
     "metadata": {},
     "output_type": "execute_result"
    },
    {
     "data": {
      "image/png": "[encoded data removed]",
      "text/plain": [
       "<Figure size 432x288 with 1 Axes>"
      ]
     },
     "metadata": {
      "needs_background": "light"
     },
     "output_type": "display_data"
    }
   ],
   "source": [
    "sns.boxplot(data['lease'])"
   ]
  },
  {
   "cell_type": "markdown",
   "id": "f2ead003",
   "metadata": {},
   "source": [
    "we see that there is no any outlier present in lease feature and budget features"
   ]
  },
  {
   "cell_type": "markdown",
   "id": "ce2c87ff",
   "metadata": {},
   "source": [
    "no check the univarient - multivarient"
   ]
  },
  {
   "cell_type": "code",
   "execution_count": 41,
   "id": "77f2a708",
   "metadata": {},
   "outputs": [
    {
     "name": "stderr",
     "output_type": "stream",
     "text": [
      "C:\\Users\\Dinbandhu Suman\\anaconda3\\lib\\site-packages\\seaborn\\_decorators.py:36: FutureWarning: Pass the following variables as keyword args: x, y. From version 0.12, the only valid positional argument will be `data`, and passing other arguments without an explicit keyword will result in an error or misinterpretation.\n",
      "  warnings.warn(\n"
     ]
    },
    {
     "data": {
      "text/plain": [
       "<AxesSubplot:xlabel='budget', ylabel='status'>"
      ]
     },
     "execution_count": 41,
     "metadata": {},
     "output_type": "execute_result"
    },
    {
     "data": {
      "image/png": "[encoded data removed]",
      "text/plain": [
       "<Figure size 432x288 with 1 Axes>"
      ]
     },
     "metadata": {
      "needs_background": "light"
     },
     "output_type": "display_data"
    }
   ],
   "source": [
    "sns.scatterplot(data['budget'],data['status'])"
   ]
  },
  {
   "cell_type": "code",
   "execution_count": 42,
   "id": "46051957",
   "metadata": {},
   "outputs": [
    {
     "data": {
      "text/plain": [
       "<seaborn.axisgrid.PairGrid at 0x1e2b44d2bb0>"
      ]
     },
     "execution_count": 42,
     "metadata": {},
     "output_type": "execute_result"
    },
    {
     "data": {
      "image/png": "[encoded data removed]",
      "text/plain": [
       "<Figure size 360x360 with 6 Axes>"
      ]
     },
     "metadata": {
      "needs_background": "light"
     },
     "output_type": "display_data"
    }
   ],
   "source": [
    "sns.pairplot(data)"
   ]
  },
  {
   "cell_type": "markdown",
   "id": "bb66d89e",
   "metadata": {},
   "source": [
    "All features are independent"
   ]
  },
  {
   "cell_type": "code",
   "execution_count": 43,
   "id": "9f55e03e",
   "metadata": {},
   "outputs": [
    {
     "name": "stderr",
     "output_type": "stream",
     "text": [
      "C:\\Users\\Dinbandhu Suman\\anaconda3\\lib\\site-packages\\seaborn\\distributions.py:2619: FutureWarning: `distplot` is a deprecated function and will be removed in a future version. Please adapt your code to use either `displot` (a figure-level function with similar flexibility) or `histplot` (an axes-level function for histograms).\n",
      "  warnings.warn(msg, FutureWarning)\n"
     ]
    },
    {
     "data": {
      "text/plain": [
       "<AxesSubplot:xlabel='budget', ylabel='Density'>"
      ]
     },
     "execution_count": 43,
     "metadata": {},
     "output_type": "execute_result"
    },
    {
     "data": {
      "image/png": "[encoded data removed]",
      "text/plain": [
       "<Figure size 432x288 with 1 Axes>"
      ]
     },
     "metadata": {
      "needs_background": "light"
     },
     "output_type": "display_data"
    }
   ],
   "source": [
    "sns.distplot(data['budget'])"
   ]
  },
  {
   "cell_type": "code",
   "execution_count": 44,
   "id": "dc5e1d4c",
   "metadata": {},
   "outputs": [
    {
     "name": "stderr",
     "output_type": "stream",
     "text": [
      "C:\\Users\\Dinbandhu Suman\\anaconda3\\lib\\site-packages\\seaborn\\distributions.py:2619: FutureWarning: `distplot` is a deprecated function and will be removed in a future version. Please adapt your code to use either `displot` (a figure-level function with similar flexibility) or `histplot` (an axes-level function for histograms).\n",
      "  warnings.warn(msg, FutureWarning)\n"
     ]
    },
    {
     "data": {
      "text/plain": [
       "<AxesSubplot:xlabel='lease', ylabel='Density'>"
      ]
     },
     "execution_count": 44,
     "metadata": {},
     "output_type": "execute_result"
    },
    {
     "data": {
      "image/png": "[encoded data removed]",
      "text/plain": [
       "<Figure size 432x288 with 1 Axes>"
      ]
     },
     "metadata": {
      "needs_background": "light"
     },
     "output_type": "display_data"
    }
   ],
   "source": [
    "sns.distplot(data['lease'])"
   ]
  },
  {
   "cell_type": "markdown",
   "id": "7179be83",
   "metadata": {},
   "source": [
    "feature are not normally distributed.."
   ]
  },
  {
   "cell_type": "markdown",
   "id": "59b66167",
   "metadata": {},
   "source": [
    "Now convert the categorical feature to numerical features"
   ]
  },
  {
   "cell_type": "code",
   "execution_count": 45,
   "id": "8c9fdce3",
   "metadata": {},
   "outputs": [],
   "source": [
    "data['status'] = data['status'].map({'LOST':1,'WON':0})"
   ]
  },
  {
   "cell_type": "code",
   "execution_count": 46,
   "id": "6afbd6ba",
   "metadata": {},
   "outputs": [
    {
     "data": {
      "text/html": [
       "<div>\n",
       "<style scoped>\n",
       "    .dataframe tbody tr th:only-of-type {\n",
       "        vertical-align: middle;\n",
       "    }\n",
       "\n",
       "    .dataframe tbody tr th {\n",
       "        vertical-align: top;\n",
       "    }\n",
       "\n",
       "    .dataframe thead th {\n",
       "        text-align: right;\n",
       "    }\n",
       "</style>\n",
       "<table border=\"1\" class=\"dataframe\">\n",
       "  <thead>\n",
       "    <tr style=\"text-align: right;\">\n",
       "      <th></th>\n",
       "      <th>status</th>\n",
       "      <th>lost_reason</th>\n",
       "      <th>budget</th>\n",
       "      <th>lease</th>\n",
       "    </tr>\n",
       "  </thead>\n",
       "  <tbody>\n",
       "    <tr>\n",
       "      <th>0</th>\n",
       "      <td>1</td>\n",
       "      <td>Not responding</td>\n",
       "      <td>3993.868266</td>\n",
       "      <td>4695.840378</td>\n",
       "    </tr>\n",
       "    <tr>\n",
       "      <th>1</th>\n",
       "      <td>1</td>\n",
       "      <td>Low budget</td>\n",
       "      <td>3993.868266</td>\n",
       "      <td>4695.840378</td>\n",
       "    </tr>\n",
       "    <tr>\n",
       "      <th>2</th>\n",
       "      <td>1</td>\n",
       "      <td>Not responding</td>\n",
       "      <td>8954.000000</td>\n",
       "      <td>11111.000000</td>\n",
       "    </tr>\n",
       "    <tr>\n",
       "      <th>3</th>\n",
       "      <td>1</td>\n",
       "      <td>Low budget</td>\n",
       "      <td>5733.000000</td>\n",
       "      <td>7551.000000</td>\n",
       "    </tr>\n",
       "    <tr>\n",
       "      <th>4</th>\n",
       "      <td>1</td>\n",
       "      <td>Junk lead</td>\n",
       "      <td>3993.868266</td>\n",
       "      <td>4695.840378</td>\n",
       "    </tr>\n",
       "    <tr>\n",
       "      <th>...</th>\n",
       "      <td>...</td>\n",
       "      <td>...</td>\n",
       "      <td>...</td>\n",
       "      <td>...</td>\n",
       "    </tr>\n",
       "    <tr>\n",
       "      <th>46601</th>\n",
       "      <td>1</td>\n",
       "      <td>Low availability</td>\n",
       "      <td>2.000000</td>\n",
       "      <td>29.000000</td>\n",
       "    </tr>\n",
       "    <tr>\n",
       "      <th>46602</th>\n",
       "      <td>1</td>\n",
       "      <td>Wants private accommodation</td>\n",
       "      <td>8954.000000</td>\n",
       "      <td>943.000000</td>\n",
       "    </tr>\n",
       "    <tr>\n",
       "      <th>46603</th>\n",
       "      <td>1</td>\n",
       "      <td>Low availability</td>\n",
       "      <td>9862.000000</td>\n",
       "      <td>6538.000000</td>\n",
       "    </tr>\n",
       "    <tr>\n",
       "      <th>46605</th>\n",
       "      <td>1</td>\n",
       "      <td>Low availability</td>\n",
       "      <td>720.000000</td>\n",
       "      <td>11111.000000</td>\n",
       "    </tr>\n",
       "    <tr>\n",
       "      <th>46606</th>\n",
       "      <td>1</td>\n",
       "      <td>Low availability</td>\n",
       "      <td>5.000000</td>\n",
       "      <td>44.000000</td>\n",
       "    </tr>\n",
       "  </tbody>\n",
       "</table>\n",
       "<p>24085 rows × 4 columns</p>\n",
       "</div>"
      ],
      "text/plain": [
       "       status                  lost_reason       budget         lease\n",
       "0           1               Not responding  3993.868266   4695.840378\n",
       "1           1                   Low budget  3993.868266   4695.840378\n",
       "2           1               Not responding  8954.000000  11111.000000\n",
       "3           1                   Low budget  5733.000000   7551.000000\n",
       "4           1                    Junk lead  3993.868266   4695.840378\n",
       "...       ...                          ...          ...           ...\n",
       "46601       1             Low availability     2.000000     29.000000\n",
       "46602       1  Wants private accommodation  8954.000000    943.000000\n",
       "46603       1             Low availability  9862.000000   6538.000000\n",
       "46605       1             Low availability   720.000000  11111.000000\n",
       "46606       1             Low availability     5.000000     44.000000\n",
       "\n",
       "[24085 rows x 4 columns]"
      ]
     },
     "execution_count": 46,
     "metadata": {},
     "output_type": "execute_result"
    }
   ],
   "source": [
    "data"
   ]
  },
  {
   "cell_type": "code",
   "execution_count": 47,
   "id": "9b5d2016",
   "metadata": {},
   "outputs": [
    {
     "data": {
      "text/plain": [
       "1    21712\n",
       "0     2373\n",
       "Name: status, dtype: int64"
      ]
     },
     "execution_count": 47,
     "metadata": {},
     "output_type": "execute_result"
    }
   ],
   "source": [
    "data['status'].value_counts()"
   ]
  },
  {
   "cell_type": "code",
   "execution_count": 48,
   "id": "e6816ffd",
   "metadata": {},
   "outputs": [
    {
     "data": {
      "text/html": [
       "<div>\n",
       "<style scoped>\n",
       "    .dataframe tbody tr th:only-of-type {\n",
       "        vertical-align: middle;\n",
       "    }\n",
       "\n",
       "    .dataframe tbody tr th {\n",
       "        vertical-align: top;\n",
       "    }\n",
       "\n",
       "    .dataframe thead th {\n",
       "        text-align: right;\n",
       "    }\n",
       "</style>\n",
       "<table border=\"1\" class=\"dataframe\">\n",
       "  <thead>\n",
       "    <tr style=\"text-align: right;\">\n",
       "      <th></th>\n",
       "      <th>status</th>\n",
       "      <th>budget</th>\n",
       "      <th>lease</th>\n",
       "      <th>lost_reason_Booked with competitor</th>\n",
       "      <th>lost_reason_Booked with manager</th>\n",
       "      <th>lost_reason_Cross sell</th>\n",
       "      <th>lost_reason_Didn't respond in time</th>\n",
       "      <th>lost_reason_Distance issue</th>\n",
       "      <th>lost_reason_Guarantor issue</th>\n",
       "      <th>lost_reason_Inadequate details</th>\n",
       "      <th>...</th>\n",
       "      <th>lost_reason_Not interested</th>\n",
       "      <th>lost_reason_Not responding</th>\n",
       "      <th>lost_reason_Not serving in that region</th>\n",
       "      <th>lost_reason_Repeat lead</th>\n",
       "      <th>lost_reason_Semester stay</th>\n",
       "      <th>lost_reason_Short stay</th>\n",
       "      <th>lost_reason_Supply issue</th>\n",
       "      <th>lost_reason_Underage student</th>\n",
       "      <th>lost_reason_Visa/admission denied</th>\n",
       "      <th>lost_reason_Wants private accommodation</th>\n",
       "    </tr>\n",
       "  </thead>\n",
       "  <tbody>\n",
       "    <tr>\n",
       "      <th>0</th>\n",
       "      <td>1</td>\n",
       "      <td>3993.868266</td>\n",
       "      <td>4695.840378</td>\n",
       "      <td>0</td>\n",
       "      <td>0</td>\n",
       "      <td>0</td>\n",
       "      <td>0</td>\n",
       "      <td>0</td>\n",
       "      <td>0</td>\n",
       "      <td>0</td>\n",
       "      <td>...</td>\n",
       "      <td>0</td>\n",
       "      <td>1</td>\n",
       "      <td>0</td>\n",
       "      <td>0</td>\n",
       "      <td>0</td>\n",
       "      <td>0</td>\n",
       "      <td>0</td>\n",
       "      <td>0</td>\n",
       "      <td>0</td>\n",
       "      <td>0</td>\n",
       "    </tr>\n",
       "    <tr>\n",
       "      <th>1</th>\n",
       "      <td>1</td>\n",
       "      <td>3993.868266</td>\n",
       "      <td>4695.840378</td>\n",
       "      <td>0</td>\n",
       "      <td>0</td>\n",
       "      <td>0</td>\n",
       "      <td>0</td>\n",
       "      <td>0</td>\n",
       "      <td>0</td>\n",
       "      <td>0</td>\n",
       "      <td>...</td>\n",
       "      <td>0</td>\n",
       "      <td>0</td>\n",
       "      <td>0</td>\n",
       "      <td>0</td>\n",
       "      <td>0</td>\n",
       "      <td>0</td>\n",
       "      <td>0</td>\n",
       "      <td>0</td>\n",
       "      <td>0</td>\n",
       "      <td>0</td>\n",
       "    </tr>\n",
       "    <tr>\n",
       "      <th>2</th>\n",
       "      <td>1</td>\n",
       "      <td>8954.000000</td>\n",
       "      <td>11111.000000</td>\n",
       "      <td>0</td>\n",
       "      <td>0</td>\n",
       "      <td>0</td>\n",
       "      <td>0</td>\n",
       "      <td>0</td>\n",
       "      <td>0</td>\n",
       "      <td>0</td>\n",
       "      <td>...</td>\n",
       "      <td>0</td>\n",
       "      <td>1</td>\n",
       "      <td>0</td>\n",
       "      <td>0</td>\n",
       "      <td>0</td>\n",
       "      <td>0</td>\n",
       "      <td>0</td>\n",
       "      <td>0</td>\n",
       "      <td>0</td>\n",
       "      <td>0</td>\n",
       "    </tr>\n",
       "    <tr>\n",
       "      <th>3</th>\n",
       "      <td>1</td>\n",
       "      <td>5733.000000</td>\n",
       "      <td>7551.000000</td>\n",
       "      <td>0</td>\n",
       "      <td>0</td>\n",
       "      <td>0</td>\n",
       "      <td>0</td>\n",
       "      <td>0</td>\n",
       "      <td>0</td>\n",
       "      <td>0</td>\n",
       "      <td>...</td>\n",
       "      <td>0</td>\n",
       "      <td>0</td>\n",
       "      <td>0</td>\n",
       "      <td>0</td>\n",
       "      <td>0</td>\n",
       "      <td>0</td>\n",
       "      <td>0</td>\n",
       "      <td>0</td>\n",
       "      <td>0</td>\n",
       "      <td>0</td>\n",
       "    </tr>\n",
       "    <tr>\n",
       "      <th>4</th>\n",
       "      <td>1</td>\n",
       "      <td>3993.868266</td>\n",
       "      <td>4695.840378</td>\n",
       "      <td>0</td>\n",
       "      <td>0</td>\n",
       "      <td>0</td>\n",
       "      <td>0</td>\n",
       "      <td>0</td>\n",
       "      <td>0</td>\n",
       "      <td>0</td>\n",
       "      <td>...</td>\n",
       "      <td>0</td>\n",
       "      <td>0</td>\n",
       "      <td>0</td>\n",
       "      <td>0</td>\n",
       "      <td>0</td>\n",
       "      <td>0</td>\n",
       "      <td>0</td>\n",
       "      <td>0</td>\n",
       "      <td>0</td>\n",
       "      <td>0</td>\n",
       "    </tr>\n",
       "    <tr>\n",
       "      <th>...</th>\n",
       "      <td>...</td>\n",
       "      <td>...</td>\n",
       "      <td>...</td>\n",
       "      <td>...</td>\n",
       "      <td>...</td>\n",
       "      <td>...</td>\n",
       "      <td>...</td>\n",
       "      <td>...</td>\n",
       "      <td>...</td>\n",
       "      <td>...</td>\n",
       "      <td>...</td>\n",
       "      <td>...</td>\n",
       "      <td>...</td>\n",
       "      <td>...</td>\n",
       "      <td>...</td>\n",
       "      <td>...</td>\n",
       "      <td>...</td>\n",
       "      <td>...</td>\n",
       "      <td>...</td>\n",
       "      <td>...</td>\n",
       "      <td>...</td>\n",
       "    </tr>\n",
       "    <tr>\n",
       "      <th>46601</th>\n",
       "      <td>1</td>\n",
       "      <td>2.000000</td>\n",
       "      <td>29.000000</td>\n",
       "      <td>0</td>\n",
       "      <td>0</td>\n",
       "      <td>0</td>\n",
       "      <td>0</td>\n",
       "      <td>0</td>\n",
       "      <td>0</td>\n",
       "      <td>0</td>\n",
       "      <td>...</td>\n",
       "      <td>0</td>\n",
       "      <td>0</td>\n",
       "      <td>0</td>\n",
       "      <td>0</td>\n",
       "      <td>0</td>\n",
       "      <td>0</td>\n",
       "      <td>0</td>\n",
       "      <td>0</td>\n",
       "      <td>0</td>\n",
       "      <td>0</td>\n",
       "    </tr>\n",
       "    <tr>\n",
       "      <th>46602</th>\n",
       "      <td>1</td>\n",
       "      <td>8954.000000</td>\n",
       "      <td>943.000000</td>\n",
       "      <td>0</td>\n",
       "      <td>0</td>\n",
       "      <td>0</td>\n",
       "      <td>0</td>\n",
       "      <td>0</td>\n",
       "      <td>0</td>\n",
       "      <td>0</td>\n",
       "      <td>...</td>\n",
       "      <td>0</td>\n",
       "      <td>0</td>\n",
       "      <td>0</td>\n",
       "      <td>0</td>\n",
       "      <td>0</td>\n",
       "      <td>0</td>\n",
       "      <td>0</td>\n",
       "      <td>0</td>\n",
       "      <td>0</td>\n",
       "      <td>1</td>\n",
       "    </tr>\n",
       "    <tr>\n",
       "      <th>46603</th>\n",
       "      <td>1</td>\n",
       "      <td>9862.000000</td>\n",
       "      <td>6538.000000</td>\n",
       "      <td>0</td>\n",
       "      <td>0</td>\n",
       "      <td>0</td>\n",
       "      <td>0</td>\n",
       "      <td>0</td>\n",
       "      <td>0</td>\n",
       "      <td>0</td>\n",
       "      <td>...</td>\n",
       "      <td>0</td>\n",
       "      <td>0</td>\n",
       "      <td>0</td>\n",
       "      <td>0</td>\n",
       "      <td>0</td>\n",
       "      <td>0</td>\n",
       "      <td>0</td>\n",
       "      <td>0</td>\n",
       "      <td>0</td>\n",
       "      <td>0</td>\n",
       "    </tr>\n",
       "    <tr>\n",
       "      <th>46605</th>\n",
       "      <td>1</td>\n",
       "      <td>720.000000</td>\n",
       "      <td>11111.000000</td>\n",
       "      <td>0</td>\n",
       "      <td>0</td>\n",
       "      <td>0</td>\n",
       "      <td>0</td>\n",
       "      <td>0</td>\n",
       "      <td>0</td>\n",
       "      <td>0</td>\n",
       "      <td>...</td>\n",
       "      <td>0</td>\n",
       "      <td>0</td>\n",
       "      <td>0</td>\n",
       "      <td>0</td>\n",
       "      <td>0</td>\n",
       "      <td>0</td>\n",
       "      <td>0</td>\n",
       "      <td>0</td>\n",
       "      <td>0</td>\n",
       "      <td>0</td>\n",
       "    </tr>\n",
       "    <tr>\n",
       "      <th>46606</th>\n",
       "      <td>1</td>\n",
       "      <td>5.000000</td>\n",
       "      <td>44.000000</td>\n",
       "      <td>0</td>\n",
       "      <td>0</td>\n",
       "      <td>0</td>\n",
       "      <td>0</td>\n",
       "      <td>0</td>\n",
       "      <td>0</td>\n",
       "      <td>0</td>\n",
       "      <td>...</td>\n",
       "      <td>0</td>\n",
       "      <td>0</td>\n",
       "      <td>0</td>\n",
       "      <td>0</td>\n",
       "      <td>0</td>\n",
       "      <td>0</td>\n",
       "      <td>0</td>\n",
       "      <td>0</td>\n",
       "      <td>0</td>\n",
       "      <td>0</td>\n",
       "    </tr>\n",
       "  </tbody>\n",
       "</table>\n",
       "<p>24085 rows × 32 columns</p>\n",
       "</div>"
      ],
      "text/plain": [
       "       status       budget         lease  lost_reason_Booked with competitor  \\\n",
       "0           1  3993.868266   4695.840378                                   0   \n",
       "1           1  3993.868266   4695.840378                                   0   \n",
       "2           1  8954.000000  11111.000000                                   0   \n",
       "3           1  5733.000000   7551.000000                                   0   \n",
       "4           1  3993.868266   4695.840378                                   0   \n",
       "...       ...          ...           ...                                 ...   \n",
       "46601       1     2.000000     29.000000                                   0   \n",
       "46602       1  8954.000000    943.000000                                   0   \n",
       "46603       1  9862.000000   6538.000000                                   0   \n",
       "46605       1   720.000000  11111.000000                                   0   \n",
       "46606       1     5.000000     44.000000                                   0   \n",
       "\n",
       "       lost_reason_Booked with manager  lost_reason_Cross sell  \\\n",
       "0                                    0                       0   \n",
       "1                                    0                       0   \n",
       "2                                    0                       0   \n",
       "3                                    0                       0   \n",
       "4                                    0                       0   \n",
       "...                                ...                     ...   \n",
       "46601                                0                       0   \n",
       "46602                                0                       0   \n",
       "46603                                0                       0   \n",
       "46605                                0                       0   \n",
       "46606                                0                       0   \n",
       "\n",
       "       lost_reason_Didn't respond in time  lost_reason_Distance issue  \\\n",
       "0                                       0                           0   \n",
       "1                                       0                           0   \n",
       "2                                       0                           0   \n",
       "3                                       0                           0   \n",
       "4                                       0                           0   \n",
       "...                                   ...                         ...   \n",
       "46601                                   0                           0   \n",
       "46602                                   0                           0   \n",
       "46603                                   0                           0   \n",
       "46605                                   0                           0   \n",
       "46606                                   0                           0   \n",
       "\n",
       "       lost_reason_Guarantor issue  lost_reason_Inadequate details  ...  \\\n",
       "0                                0                               0  ...   \n",
       "1                                0                               0  ...   \n",
       "2                                0                               0  ...   \n",
       "3                                0                               0  ...   \n",
       "4                                0                               0  ...   \n",
       "...                            ...                             ...  ...   \n",
       "46601                            0                               0  ...   \n",
       "46602                            0                               0  ...   \n",
       "46603                            0                               0  ...   \n",
       "46605                            0                               0  ...   \n",
       "46606                            0                               0  ...   \n",
       "\n",
       "       lost_reason_Not interested  lost_reason_Not responding  \\\n",
       "0                               0                           1   \n",
       "1                               0                           0   \n",
       "2                               0                           1   \n",
       "3                               0                           0   \n",
       "4                               0                           0   \n",
       "...                           ...                         ...   \n",
       "46601                           0                           0   \n",
       "46602                           0                           0   \n",
       "46603                           0                           0   \n",
       "46605                           0                           0   \n",
       "46606                           0                           0   \n",
       "\n",
       "       lost_reason_Not serving in that region  lost_reason_Repeat lead  \\\n",
       "0                                           0                        0   \n",
       "1                                           0                        0   \n",
       "2                                           0                        0   \n",
       "3                                           0                        0   \n",
       "4                                           0                        0   \n",
       "...                                       ...                      ...   \n",
       "46601                                       0                        0   \n",
       "46602                                       0                        0   \n",
       "46603                                       0                        0   \n",
       "46605                                       0                        0   \n",
       "46606                                       0                        0   \n",
       "\n",
       "       lost_reason_Semester stay  lost_reason_Short stay  \\\n",
       "0                              0                       0   \n",
       "1                              0                       0   \n",
       "2                              0                       0   \n",
       "3                              0                       0   \n",
       "4                              0                       0   \n",
       "...                          ...                     ...   \n",
       "46601                          0                       0   \n",
       "46602                          0                       0   \n",
       "46603                          0                       0   \n",
       "46605                          0                       0   \n",
       "46606                          0                       0   \n",
       "\n",
       "       lost_reason_Supply issue  lost_reason_Underage student  \\\n",
       "0                             0                             0   \n",
       "1                             0                             0   \n",
       "2                             0                             0   \n",
       "3                             0                             0   \n",
       "4                             0                             0   \n",
       "...                         ...                           ...   \n",
       "46601                         0                             0   \n",
       "46602                         0                             0   \n",
       "46603                         0                             0   \n",
       "46605                         0                             0   \n",
       "46606                         0                             0   \n",
       "\n",
       "       lost_reason_Visa/admission denied  \\\n",
       "0                                      0   \n",
       "1                                      0   \n",
       "2                                      0   \n",
       "3                                      0   \n",
       "4                                      0   \n",
       "...                                  ...   \n",
       "46601                                  0   \n",
       "46602                                  0   \n",
       "46603                                  0   \n",
       "46605                                  0   \n",
       "46606                                  0   \n",
       "\n",
       "       lost_reason_Wants private accommodation  \n",
       "0                                            0  \n",
       "1                                            0  \n",
       "2                                            0  \n",
       "3                                            0  \n",
       "4                                            0  \n",
       "...                                        ...  \n",
       "46601                                        0  \n",
       "46602                                        1  \n",
       "46603                                        0  \n",
       "46605                                        0  \n",
       "46606                                        0  \n",
       "\n",
       "[24085 rows x 32 columns]"
      ]
     },
     "execution_count": 48,
     "metadata": {},
     "output_type": "execute_result"
    }
   ],
   "source": [
    "data_df = pd.get_dummies(data, columns = ['lost_reason'],drop_first=True)\n",
    "data_df"
   ]
  },
  {
   "cell_type": "markdown",
   "id": "f5e4b593",
   "metadata": {},
   "source": [
    "Seperate the data for Independent and dependent Features"
   ]
  },
  {
   "cell_type": "code",
   "execution_count": 49,
   "id": "dfbe4909",
   "metadata": {},
   "outputs": [],
   "source": [
    "x = data_df.drop(columns=['status'],axis=1)\n",
    "y = data_df['status']"
   ]
  },
  {
   "cell_type": "code",
   "execution_count": 50,
   "id": "b682a5b6",
   "metadata": {},
   "outputs": [
    {
     "data": {
      "text/plain": [
       "0    1\n",
       "1    1\n",
       "2    1\n",
       "3    1\n",
       "4    1\n",
       "Name: status, dtype: int64"
      ]
     },
     "execution_count": 50,
     "metadata": {},
     "output_type": "execute_result"
    }
   ],
   "source": [
    "y.head()"
   ]
  },
  {
   "cell_type": "markdown",
   "id": "2a42bec3",
   "metadata": {},
   "source": [
    "Now Scale down the data"
   ]
  },
  {
   "cell_type": "code",
   "execution_count": 51,
   "id": "e762e2d5",
   "metadata": {},
   "outputs": [
    {
     "data": {
      "text/plain": [
       "array([[4.04915147e-01, 4.22577892e-01, 0.00000000e+00, ...,\n",
       "        0.00000000e+00, 0.00000000e+00, 0.00000000e+00],\n",
       "       [4.04915147e-01, 4.22577892e-01, 0.00000000e+00, ...,\n",
       "        0.00000000e+00, 0.00000000e+00, 0.00000000e+00],\n",
       "       [9.07920089e-01, 1.00000000e+00, 0.00000000e+00, ...,\n",
       "        0.00000000e+00, 0.00000000e+00, 0.00000000e+00],\n",
       "       ...,\n",
       "       [1.00000000e+00, 5.88388839e-01, 0.00000000e+00, ...,\n",
       "        0.00000000e+00, 0.00000000e+00, 0.00000000e+00],\n",
       "       [7.29134976e-02, 1.00000000e+00, 0.00000000e+00, ...,\n",
       "        0.00000000e+00, 0.00000000e+00, 0.00000000e+00],\n",
       "       [4.05638373e-04, 3.87038704e-03, 0.00000000e+00, ...,\n",
       "        0.00000000e+00, 0.00000000e+00, 0.00000000e+00]])"
      ]
     },
     "execution_count": 51,
     "metadata": {},
     "output_type": "execute_result"
    }
   ],
   "source": [
    "scale = MinMaxScaler()\n",
    "scale.fit_transform(x)"
   ]
  },
  {
   "cell_type": "markdown",
   "id": "c4b62739",
   "metadata": {},
   "source": [
    "Now split the dataset--- into train/test (80 and 20 percent )"
   ]
  },
  {
   "cell_type": "code",
   "execution_count": 52,
   "id": "cb143ff9",
   "metadata": {},
   "outputs": [],
   "source": [
    "x_train,xtest,y_train,y_test = train_test_split(x,y,test_size=0.20,random_state=42)"
   ]
  },
  {
   "cell_type": "markdown",
   "id": "d029454f",
   "metadata": {},
   "source": [
    "Model selection---"
   ]
  },
  {
   "cell_type": "code",
   "execution_count": 53,
   "id": "9fe0bd8a",
   "metadata": {},
   "outputs": [
    {
     "name": "stdout",
     "output_type": "stream",
     "text": [
      "[[   0  469]\n",
      " [   0 4348]]\n",
      "              precision    recall  f1-score   support\n",
      "\n",
      "           0       0.00      0.00      0.00       469\n",
      "           1       0.90      1.00      0.95      4348\n",
      "\n",
      "    accuracy                           0.90      4817\n",
      "   macro avg       0.45      0.50      0.47      4817\n",
      "weighted avg       0.81      0.90      0.86      4817\n",
      "\n"
     ]
    },
    {
     "name": "stderr",
     "output_type": "stream",
     "text": [
      "C:\\Users\\Dinbandhu Suman\\anaconda3\\lib\\site-packages\\sklearn\\metrics\\_classification.py:1327: UndefinedMetricWarning: Precision and F-score are ill-defined and being set to 0.0 in labels with no predicted samples. Use `zero_division` parameter to control this behavior.\n",
      "  _warn_prf(average, modifier, msg_start, len(result))\n",
      "C:\\Users\\Dinbandhu Suman\\anaconda3\\lib\\site-packages\\sklearn\\metrics\\_classification.py:1327: UndefinedMetricWarning: Precision and F-score are ill-defined and being set to 0.0 in labels with no predicted samples. Use `zero_division` parameter to control this behavior.\n",
      "  _warn_prf(average, modifier, msg_start, len(result))\n",
      "C:\\Users\\Dinbandhu Suman\\anaconda3\\lib\\site-packages\\sklearn\\metrics\\_classification.py:1327: UndefinedMetricWarning: Precision and F-score are ill-defined and being set to 0.0 in labels with no predicted samples. Use `zero_division` parameter to control this behavior.\n",
      "  _warn_prf(average, modifier, msg_start, len(result))\n"
     ]
    }
   ],
   "source": [
    "lr = LogisticRegression(random_state=42)\n",
    "lr.fit(x_train,y_train)\n",
    "y_pred_lr = lr.predict(xtest)\n",
    "print(metrics.confusion_matrix(y_test,y_pred_lr))\n",
    "print(metrics.classification_report(y_test,y_pred_lr))"
   ]
  },
  {
   "cell_type": "markdown",
   "id": "343bd6a9",
   "metadata": {},
   "source": [
    "Decesion Tree Classifier"
   ]
  },
  {
   "cell_type": "code",
   "execution_count": 54,
   "id": "6334bfef",
   "metadata": {},
   "outputs": [
    {
     "name": "stdout",
     "output_type": "stream",
     "text": [
      "[[ 153  316]\n",
      " [ 129 4219]]\n",
      "              precision    recall  f1-score   support\n",
      "\n",
      "           0       0.54      0.33      0.41       469\n",
      "           1       0.93      0.97      0.95      4348\n",
      "\n",
      "    accuracy                           0.91      4817\n",
      "   macro avg       0.74      0.65      0.68      4817\n",
      "weighted avg       0.89      0.91      0.90      4817\n",
      "\n"
     ]
    }
   ],
   "source": [
    "\n",
    "dt = DecisionTreeClassifier(random_state=42)\n",
    "dt.fit(x_train, y_train)\n",
    "\n",
    "\n",
    "# Make Prediction & print the result\n",
    "y_pred_dt= dt.predict(xtest)\n",
    "print(metrics.confusion_matrix(y_test,y_pred_dt))\n",
    "print(metrics.classification_report(y_test,y_pred_dt))"
   ]
  },
  {
   "cell_type": "markdown",
   "id": "f39811e6",
   "metadata": {},
   "source": [
    " Random Forest"
   ]
  },
  {
   "cell_type": "code",
   "execution_count": 55,
   "id": "fd409145",
   "metadata": {},
   "outputs": [
    {
     "name": "stdout",
     "output_type": "stream",
     "text": [
      "[[ 153  316]\n",
      " [ 114 4234]]\n",
      "              precision    recall  f1-score   support\n",
      "\n",
      "           0       0.57      0.33      0.42       469\n",
      "           1       0.93      0.97      0.95      4348\n",
      "\n",
      "    accuracy                           0.91      4817\n",
      "   macro avg       0.75      0.65      0.68      4817\n",
      "weighted avg       0.90      0.91      0.90      4817\n",
      "\n"
     ]
    }
   ],
   "source": [
    "rm = RandomForestClassifier()\n",
    "rm.fit(x_train,y_train)\n",
    "y_pred_rm = rm.predict(xtest)\n",
    "print(metrics.confusion_matrix(y_test,y_pred_rm))\n",
    "print(metrics.classification_report(y_test,y_pred_rm))"
   ]
  },
  {
   "cell_type": "markdown",
   "id": "197e7995",
   "metadata": {},
   "source": [
    "SVM"
   ]
  },
  {
   "cell_type": "code",
   "execution_count": 56,
   "id": "2692ed67",
   "metadata": {},
   "outputs": [
    {
     "name": "stdout",
     "output_type": "stream",
     "text": [
      "[[   0  469]\n",
      " [   0 4348]]\n",
      "              precision    recall  f1-score   support\n",
      "\n",
      "           0       0.00      0.00      0.00       469\n",
      "           1       0.90      1.00      0.95      4348\n",
      "\n",
      "    accuracy                           0.90      4817\n",
      "   macro avg       0.45      0.50      0.47      4817\n",
      "weighted avg       0.81      0.90      0.86      4817\n",
      "\n"
     ]
    },
    {
     "name": "stderr",
     "output_type": "stream",
     "text": [
      "C:\\Users\\Dinbandhu Suman\\anaconda3\\lib\\site-packages\\sklearn\\metrics\\_classification.py:1327: UndefinedMetricWarning: Precision and F-score are ill-defined and being set to 0.0 in labels with no predicted samples. Use `zero_division` parameter to control this behavior.\n",
      "  _warn_prf(average, modifier, msg_start, len(result))\n",
      "C:\\Users\\Dinbandhu Suman\\anaconda3\\lib\\site-packages\\sklearn\\metrics\\_classification.py:1327: UndefinedMetricWarning: Precision and F-score are ill-defined and being set to 0.0 in labels with no predicted samples. Use `zero_division` parameter to control this behavior.\n",
      "  _warn_prf(average, modifier, msg_start, len(result))\n",
      "C:\\Users\\Dinbandhu Suman\\anaconda3\\lib\\site-packages\\sklearn\\metrics\\_classification.py:1327: UndefinedMetricWarning: Precision and F-score are ill-defined and being set to 0.0 in labels with no predicted samples. Use `zero_division` parameter to control this behavior.\n",
      "  _warn_prf(average, modifier, msg_start, len(result))\n"
     ]
    }
   ],
   "source": [
    "from sklearn.svm import SVC\n",
    "svc = SVC()\n",
    "svc.fit(x_train, y_train)\n",
    "\n",
    "y_pred_svc= svc.predict(xtest)\n",
    "print(metrics.confusion_matrix(y_test,y_pred_svc))\n",
    "print(metrics.classification_report(y_test,y_pred_svc))"
   ]
  },
  {
   "cell_type": "markdown",
   "id": "e509c91d",
   "metadata": {},
   "source": [
    "XGB"
   ]
  },
  {
   "cell_type": "code",
   "execution_count": 57,
   "id": "ef6ebff8",
   "metadata": {},
   "outputs": [
    {
     "name": "stdout",
     "output_type": "stream",
     "text": [
      "[[ 149  320]\n",
      " [ 107 4241]]\n",
      "              precision    recall  f1-score   support\n",
      "\n",
      "           0       0.58      0.32      0.41       469\n",
      "           1       0.93      0.98      0.95      4348\n",
      "\n",
      "    accuracy                           0.91      4817\n",
      "   macro avg       0.76      0.65      0.68      4817\n",
      "weighted avg       0.90      0.91      0.90      4817\n",
      "\n"
     ]
    }
   ],
   "source": [
    "xgb = XGBClassifier()\n",
    "xgb.fit(x_train,y_train)\n",
    "y_pred_xgb= xgb.predict(xtest)\n",
    "\n",
    "print(metrics.confusion_matrix(y_test,y_pred_xgb))\n",
    "print(metrics.classification_report(y_test,y_pred_xgb))"
   ]
  },
  {
   "cell_type": "code",
   "execution_count": null,
   "id": "1576a5e2",
   "metadata": {},
   "outputs": [],
   "source": []
  },
  {
   "cell_type": "code",
   "execution_count": null,
   "id": "7418843d",
   "metadata": {},
   "outputs": [],
   "source": []
  },
  {
   "cell_type": "code",
   "execution_count": null,
   "id": "714baa7b",
   "metadata": {},
   "outputs": [],
   "source": []
  }
 ],
 "metadata": {
  "kernelspec": {
   "display_name": "Python 3 (ipykernel)",
   "language": "python",
   "name": "python3"
  },
  "language_info": {
   "codemirror_mode": {
    "name": "ipython",
    "version": 3
   },
   "file_extension": ".py",
   "mimetype": "text/x-python",
   "name": "python",
   "nbconvert_exporter": "python",
   "pygments_lexer": "ipython3",
   "version": "3.9.7"
  }
 },
 "nbformat": 4,
 "nbformat_minor": 5
}
